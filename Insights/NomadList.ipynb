{
 "cells": [
  {
   "cell_type": "code",
   "execution_count": 1,
   "metadata": {},
   "outputs": [],
   "source": [
    "import pandas as pd"
   ]
  },
  {
   "cell_type": "code",
   "execution_count": 4,
   "metadata": {},
   "outputs": [
    {
     "data": {
      "text/html": [
       "<div>\n",
       "<style scoped>\n",
       "    .dataframe tbody tr th:only-of-type {\n",
       "        vertical-align: middle;\n",
       "    }\n",
       "\n",
       "    .dataframe tbody tr th {\n",
       "        vertical-align: top;\n",
       "    }\n",
       "\n",
       "    .dataframe thead th {\n",
       "        text-align: right;\n",
       "    }\n",
       "</style>\n",
       "<table border=\"1\" class=\"dataframe\">\n",
       "  <thead>\n",
       "    <tr style=\"text-align: right;\">\n",
       "      <th></th>\n",
       "      <th>Unnamed: 0</th>\n",
       "      <th>url</th>\n",
       "      <th>results</th>\n",
       "      <th>result1</th>\n",
       "      <th>result2</th>\n",
       "      <th>score</th>\n",
       "      <th>rank</th>\n",
       "    </tr>\n",
       "  </thead>\n",
       "  <tbody>\n",
       "    <tr>\n",
       "      <th>0</th>\n",
       "      <td>0</td>\n",
       "      <td>https://nomadlist.com/lisbon</td>\n",
       "      <td>['⭐️ Total score\\n4.34/5 (Rank #1)\\n2384 revie...</td>\n",
       "      <td>['⭐️ Total score\\n4.34/5 (</td>\n",
       "      <td>#1)\\n2384 reviews\\n❤️ Liked by members\\n👍86% ...</td>\n",
       "      <td>4.34</td>\n",
       "      <td>1</td>\n",
       "    </tr>\n",
       "    <tr>\n",
       "      <th>1</th>\n",
       "      <td>1</td>\n",
       "      <td>https://nomadlist.com/chiang-mai</td>\n",
       "      <td>['⭐️ Total score\\n4.06/5 (Rank #3)\\n1583 revie...</td>\n",
       "      <td>['⭐️ Total score\\n4.06/5 (</td>\n",
       "      <td>#3)\\n1583 reviews\\n❤️ Liked by members\\n👍91% ...</td>\n",
       "      <td>4.06</td>\n",
       "      <td>3</td>\n",
       "    </tr>\n",
       "    <tr>\n",
       "      <th>2</th>\n",
       "      <td>2</td>\n",
       "      <td>https://nomadlist.com/canggu</td>\n",
       "      <td>['⭐️ Total score\\n4.04/5 (Rank #4)\\n1287 revie...</td>\n",
       "      <td>['⭐️ Total score\\n4.04/5 (</td>\n",
       "      <td>#4)\\n1287 reviews\\n❤️ Liked by members\\n👍81% ...</td>\n",
       "      <td>4.04</td>\n",
       "      <td>4</td>\n",
       "    </tr>\n",
       "    <tr>\n",
       "      <th>3</th>\n",
       "      <td>3</td>\n",
       "      <td>https://nomadlist.com/bangkok</td>\n",
       "      <td>['⭐️ Total score\\n4.08/5 (Rank #2)\\n2250 revie...</td>\n",
       "      <td>['⭐️ Total score\\n4.08/5 (</td>\n",
       "      <td>#2)\\n2250 reviews\\n❤️ Liked by members\\n👍89% ...</td>\n",
       "      <td>4.08</td>\n",
       "      <td>2</td>\n",
       "    </tr>\n",
       "    <tr>\n",
       "      <th>4</th>\n",
       "      <td>4</td>\n",
       "      <td>https://nomadlist.com/madeira</td>\n",
       "      <td>['⭐️ Total score\\n3.88/5 (Rank #5)\\n275 review...</td>\n",
       "      <td>['⭐️ Total score\\n3.88/5 (</td>\n",
       "      <td>#5)\\n275 reviews\\n❤️ Liked by members\\n👍100% ...</td>\n",
       "      <td>3.88</td>\n",
       "      <td>5</td>\n",
       "    </tr>\n",
       "  </tbody>\n",
       "</table>\n",
       "</div>"
      ],
      "text/plain": [
       "   Unnamed: 0                               url  \\\n",
       "0           0      https://nomadlist.com/lisbon   \n",
       "1           1  https://nomadlist.com/chiang-mai   \n",
       "2           2      https://nomadlist.com/canggu   \n",
       "3           3     https://nomadlist.com/bangkok   \n",
       "4           4     https://nomadlist.com/madeira   \n",
       "\n",
       "                                             results  \\\n",
       "0  ['⭐️ Total score\\n4.34/5 (Rank #1)\\n2384 revie...   \n",
       "1  ['⭐️ Total score\\n4.06/5 (Rank #3)\\n1583 revie...   \n",
       "2  ['⭐️ Total score\\n4.04/5 (Rank #4)\\n1287 revie...   \n",
       "3  ['⭐️ Total score\\n4.08/5 (Rank #2)\\n2250 revie...   \n",
       "4  ['⭐️ Total score\\n3.88/5 (Rank #5)\\n275 review...   \n",
       "\n",
       "                      result1  \\\n",
       "0  ['⭐️ Total score\\n4.34/5 (   \n",
       "1  ['⭐️ Total score\\n4.06/5 (   \n",
       "2  ['⭐️ Total score\\n4.04/5 (   \n",
       "3  ['⭐️ Total score\\n4.08/5 (   \n",
       "4  ['⭐️ Total score\\n3.88/5 (   \n",
       "\n",
       "                                             result2  score  rank  \n",
       "0   #1)\\n2384 reviews\\n❤️ Liked by members\\n👍86% ...   4.34     1  \n",
       "1   #3)\\n1583 reviews\\n❤️ Liked by members\\n👍91% ...   4.06     3  \n",
       "2   #4)\\n1287 reviews\\n❤️ Liked by members\\n👍81% ...   4.04     4  \n",
       "3   #2)\\n2250 reviews\\n❤️ Liked by members\\n👍89% ...   4.08     2  \n",
       "4   #5)\\n275 reviews\\n❤️ Liked by members\\n👍100% ...   3.88     5  "
      ]
     },
     "execution_count": 4,
     "metadata": {},
     "output_type": "execute_result"
    }
   ],
   "source": [
    "nomads = pd.read_csv(r'')\n",
    "nomads.head()"
   ]
  }
 ],
 "metadata": {
  "kernelspec": {
   "display_name": "Data",
   "language": "python",
   "name": "python3"
  },
  "language_info": {
   "codemirror_mode": {
    "name": "ipython",
    "version": 3
   },
   "file_extension": ".py",
   "mimetype": "text/x-python",
   "name": "python",
   "nbconvert_exporter": "python",
   "pygments_lexer": "ipython3",
   "version": "3.9.13"
  },
  "orig_nbformat": 4,
  "vscode": {
   "interpreter": {
    "hash": "25876271bee417cea62ac4a874d4e4ae52fe419c2f0f6d8a5704a6b7fa872526"
   }
  }
 },
 "nbformat": 4,
 "nbformat_minor": 2
}
