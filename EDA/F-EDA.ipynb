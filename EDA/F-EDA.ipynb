{
  "cells": [
    {
      "cell_type": "markdown",
      "metadata": {
        "colab_type": "text",
        "id": "view-in-github"
      },
      "source": [
        "<a href=\"https://colab.research.google.com/github/Frans-Grau/Project-4_WebScraping/blob/main/F-EDA.ipynb\" target=\"_parent\"><img src=\"https://colab.research.google.com/assets/colab-badge.svg\" alt=\"Open In Colab\"/></a>"
      ]
    },
    {
      "cell_type": "code",
      "execution_count": 46,
      "metadata": {
        "id": "v-b140EaaMFq"
      },
      "outputs": [],
      "source": [
        "### Imports\n",
        "import pandas as pd\n",
        "import numpy as np\n",
        "from unicodedata import normalize\n",
        "import requests\n",
        "import seaborn as sns\n",
        "import matplotlib.pyplot as plt\n"
      ]
    },
    {
      "cell_type": "code",
      "execution_count": 47,
      "metadata": {
        "id": "N7QC7qCDaMFt"
      },
      "outputs": [],
      "source": [
        "### Data upload - csv database\n",
        "# unicorns = pd.read_csv('https://raw.githubusercontent.com/Frans-Grau/Project-4_WebScraping/main/Database/List%20of%20Unicorns.csv')\n",
        "unicorns = pd.read_csv(r'C:\\Users\\frans\\Documents\\GitHub\\Project4-WebScrap\\Files\\old\\List of Unicorns.csv')"
      ]
    },
    {
      "cell_type": "code",
      "execution_count": 48,
      "metadata": {
        "id": "ev1L2BadaMFu"
      },
      "outputs": [],
      "source": [
        "### Data upload - wikipedia database\n",
        "table_wiki = pd.read_html('https://en.wikipedia.org/wiki/List_of_unicorn_startup_companies')\n",
        "wiki_unicorns = table_wiki[2]\n",
        "#wiki_unicorns.to_pickle('wiki_unicorns.pickle')"
      ]
    },
    {
      "cell_type": "markdown",
      "metadata": {
        "id": "kOBytbInaMFw"
      },
      "source": [
        "### EDA I - Prepare & Merge both Datasets"
      ]
    },
    {
      "cell_type": "code",
      "execution_count": 49,
      "metadata": {
        "colab": {
          "base_uri": "https://localhost:8080/",
          "height": 206
        },
        "id": "z2p_DiFWaMFx",
        "outputId": "a355ec61-cf1f-45a5-c3ad-1a9476119017"
      },
      "outputs": [],
      "source": [
        "### Rename & Drop columns\n",
        "unicorns = unicorns.drop(['No.','Unnamed: 6','Unnamed: 7'], axis=1)\n",
        "unicorns = unicorns.drop(['Key Investors'], axis = 1)\n",
        "wiki_unicorns = wiki_unicorns.drop(['Valuation date','Founder(s)'], axis = 1)\n",
        "unicorns = unicorns[['Name', 'Country','Industry','Valuation ($ Billion)']]\n",
        "wiki_unicorns = wiki_unicorns[['Company','Country/ countries','Industry','Valuation (US$ billions)']]\n",
        "wiki_unicorns = wiki_unicorns.rename(columns ={'Valuation (US$ billions)':'Valuation ($ Billion)', 'Company':'Name', 'Country/ countries':'Country'})\n",
        "\n",
        "### Edit Numbers\n",
        "wiki_unicorns['Valuation ($ Billion)'].replace({'5+':'5',\"3+\": \"3\", \"2.1+\": \"2.1\",'2+':'2','1.5+':'1.5','1+':'1','1.4+':'1.4'}, inplace=True)\n",
        "wiki_unicorns['Valuation ($ Billion)'].replace('+','')\n",
        "wiki_unicorns.drop(wiki_unicorns[wiki_unicorns['Valuation ($ Billion)'] == 'Undisclosed'].index, inplace = True)\n",
        "wiki_unicorns['Valuation ($ Billion)'] = wiki_unicorns['Valuation ($ Billion)'].astype(float)\n",
        "unicorns['Valuation ($ Billion)'] = unicorns['Valuation ($ Billion)'].astype(float)\n",
        "\n",
        "\n",
        "### Merge both Datasets\n",
        "final = pd.concat([unicorns,wiki_unicorns], axis=0)\n",
        "final.reset_index(inplace=True)\n",
        "final = final.drop(['index'], axis = 1)"
      ]
    },
    {
      "cell_type": "markdown",
      "metadata": {},
      "source": [
        "### EDA II - Clean the final Dataset"
      ]
    },
    {
      "cell_type": "code",
      "execution_count": 50,
      "metadata": {},
      "outputs": [],
      "source": [
        "### Check Duplicates\n",
        "final['Name'] = final['Name'].str.lower()\n",
        "final = final.drop_duplicates(subset = \"Name\")\n",
        "final['Name'] = final['Name'].str.title()\n",
        "final['Name'].replace({'Spacex':'SpaceX'}, inplace=True)\n",
        "\n",
        "### Reset Index \n",
        "final.reset_index(inplace=True)\n",
        "final = final.drop('index', axis =1)\n",
        "final['Valuation ($ Billion)'] = final['Valuation ($ Billion)'].astype(float)"
      ]
    },
    {
      "cell_type": "code",
      "execution_count": 51,
      "metadata": {},
      "outputs": [],
      "source": [
        "final['Industry'] = final['Industry'].replace(['Artificial intelligence'], 'Artificial Intelligence')\n",
        "final['Industry'] = final['Industry'].replace(['Energy supply'], 'Energy')\n",
        "final['Industry'] = final['Industry'].replace(['Mobile financial services'], 'Fintech')\n",
        "final['Industry'] = final['Industry'].replace(['E-commerce, movie ticket distributor'], 'E-commerce')\n",
        "final['Industry'] = final['Industry'].replace(['B2B e-commerce'], 'E-commerce')\n",
        "final['Industry'] = final['Industry'].replace(['Agriculture, E-commerce'], 'E-commerce')\n",
        "final['Industry'] = final['Industry'].replace(['Cloud software'], 'Cloud computing')\n"
      ]
    },
    {
      "cell_type": "code",
      "execution_count": 52,
      "metadata": {},
      "outputs": [],
      "source": [
        "final.loc[final.Name == 'Talkdesk', 'Country'] = \"Portugal\"\n",
        "final.loc[final.Name == 'Sword Health', 'Country'] = \"Portugal\"\n",
        "final.loc[final.Name == 'Feedzai', 'Country'] = \"Portugal\"\n",
        "final.loc[final.Name == 'Outsystems', 'Country'] = \"Portugal\"\n",
        "final.loc[final.Name == 'Saltpay', 'Country'] = \"Portugal\"\n",
        "final.loc[final.Name == 'Remote', 'Country'] = \"Portugal\"\n",
        "final.loc[final.Name == 'Anchorage Digital', 'Country'] = \"Portugal\""
      ]
    },
    {
      "cell_type": "code",
      "execution_count": 53,
      "metadata": {},
      "outputs": [
        {
          "data": {
            "text/html": [
              "<div>\n",
              "<style scoped>\n",
              "    .dataframe tbody tr th:only-of-type {\n",
              "        vertical-align: middle;\n",
              "    }\n",
              "\n",
              "    .dataframe tbody tr th {\n",
              "        vertical-align: top;\n",
              "    }\n",
              "\n",
              "    .dataframe thead th {\n",
              "        text-align: right;\n",
              "    }\n",
              "</style>\n",
              "<table border=\"1\" class=\"dataframe\">\n",
              "  <thead>\n",
              "    <tr style=\"text-align: right;\">\n",
              "      <th></th>\n",
              "      <th>Name</th>\n",
              "      <th>Country</th>\n",
              "      <th>Industry</th>\n",
              "      <th>Valuation ($ Billion)</th>\n",
              "    </tr>\n",
              "  </thead>\n",
              "  <tbody>\n",
              "    <tr>\n",
              "      <th>475</th>\n",
              "      <td>Sword Health</td>\n",
              "      <td>Portugal</td>\n",
              "      <td>Health</td>\n",
              "      <td>2.0</td>\n",
              "    </tr>\n",
              "  </tbody>\n",
              "</table>\n",
              "</div>"
            ],
            "text/plain": [
              "             Name   Country Industry  Valuation ($ Billion)\n",
              "475  Sword Health  Portugal   Health                    2.0"
            ]
          },
          "execution_count": 53,
          "metadata": {},
          "output_type": "execute_result"
        }
      ],
      "source": [
        "final[final['Name']=='Sword Health']"
      ]
    },
    {
      "cell_type": "code",
      "execution_count": 54,
      "metadata": {},
      "outputs": [
        {
          "data": {
            "text/html": [
              "<div>\n",
              "<style scoped>\n",
              "    .dataframe tbody tr th:only-of-type {\n",
              "        vertical-align: middle;\n",
              "    }\n",
              "\n",
              "    .dataframe tbody tr th {\n",
              "        vertical-align: top;\n",
              "    }\n",
              "\n",
              "    .dataframe thead th {\n",
              "        text-align: right;\n",
              "    }\n",
              "</style>\n",
              "<table border=\"1\" class=\"dataframe\">\n",
              "  <thead>\n",
              "    <tr style=\"text-align: right;\">\n",
              "      <th></th>\n",
              "      <th>Name</th>\n",
              "      <th>Country</th>\n",
              "      <th>Industry</th>\n",
              "      <th>Valuation ($ Billion)</th>\n",
              "    </tr>\n",
              "  </thead>\n",
              "  <tbody>\n",
              "    <tr>\n",
              "      <th>50</th>\n",
              "      <td>Talkdesk</td>\n",
              "      <td>Portugal</td>\n",
              "      <td>Internet software &amp; services</td>\n",
              "      <td>10.0</td>\n",
              "    </tr>\n",
              "    <tr>\n",
              "      <th>54</th>\n",
              "      <td>Outsystems</td>\n",
              "      <td>Portugal</td>\n",
              "      <td>Internet software &amp; services</td>\n",
              "      <td>9.5</td>\n",
              "    </tr>\n",
              "    <tr>\n",
              "      <th>300</th>\n",
              "      <td>Anchorage Digital</td>\n",
              "      <td>Portugal</td>\n",
              "      <td>Fintech</td>\n",
              "      <td>3.0</td>\n",
              "    </tr>\n",
              "    <tr>\n",
              "      <th>307</th>\n",
              "      <td>Remote</td>\n",
              "      <td>Portugal</td>\n",
              "      <td>Fintech</td>\n",
              "      <td>3.0</td>\n",
              "    </tr>\n",
              "    <tr>\n",
              "      <th>475</th>\n",
              "      <td>Sword Health</td>\n",
              "      <td>Portugal</td>\n",
              "      <td>Health</td>\n",
              "      <td>2.0</td>\n",
              "    </tr>\n",
              "    <tr>\n",
              "      <th>931</th>\n",
              "      <td>Feedzai</td>\n",
              "      <td>Portugal</td>\n",
              "      <td>Artificial Intelligence</td>\n",
              "      <td>1.0</td>\n",
              "    </tr>\n",
              "    <tr>\n",
              "      <th>941</th>\n",
              "      <td>Saltpay</td>\n",
              "      <td>Portugal</td>\n",
              "      <td>Fintech</td>\n",
              "      <td>1.0</td>\n",
              "    </tr>\n",
              "  </tbody>\n",
              "</table>\n",
              "</div>"
            ],
            "text/plain": [
              "                  Name   Country                      Industry  \\\n",
              "50            Talkdesk  Portugal  Internet software & services   \n",
              "54          Outsystems  Portugal  Internet software & services   \n",
              "300  Anchorage Digital  Portugal                       Fintech   \n",
              "307             Remote  Portugal                       Fintech   \n",
              "475       Sword Health  Portugal                        Health   \n",
              "931            Feedzai  Portugal       Artificial Intelligence   \n",
              "941            Saltpay  Portugal                       Fintech   \n",
              "\n",
              "     Valuation ($ Billion)  \n",
              "50                    10.0  \n",
              "54                     9.5  \n",
              "300                    3.0  \n",
              "307                    3.0  \n",
              "475                    2.0  \n",
              "931                    1.0  \n",
              "941                    1.0  "
            ]
          },
          "execution_count": 54,
          "metadata": {},
          "output_type": "execute_result"
        }
      ],
      "source": [
        "final[final['Country']=='Portugal']"
      ]
    },
    {
      "cell_type": "code",
      "execution_count": 55,
      "metadata": {},
      "outputs": [],
      "source": [
        "final.to_csv('FinalUnicornsO3.csv')"
      ]
    },
    {
      "cell_type": "markdown",
      "metadata": {},
      "source": [
        "### Visualizations"
      ]
    },
    {
      "cell_type": "code",
      "execution_count": 56,
      "metadata": {},
      "outputs": [
        {
          "data": {
            "text/plain": [
              "<AxesSubplot:xlabel='Country', ylabel='Valuation ($ Billion)'>"
            ]
          },
          "execution_count": 56,
          "metadata": {},
          "output_type": "execute_result"
        },
        {
          "data": {
            "image/png": "[encoded data removed]",
            "text/plain": [
              "<Figure size 640x480 with 1 Axes>"
            ]
          },
          "metadata": {},
          "output_type": "display_data"
        }
      ],
      "source": [
        "sns.boxplot(final[final['Country']=='United States'] , x = 'Country', y='Valuation ($ Billion)')"
      ]
    },
    {
      "cell_type": "code",
      "execution_count": 57,
      "metadata": {},
      "outputs": [],
      "source": [
        "#sns.violinplot(unicorns[unicorns['Country']=='United States'])"
      ]
    },
    {
      "cell_type": "code",
      "execution_count": 58,
      "metadata": {},
      "outputs": [],
      "source": [
        "#sns.displot(unicorns[unicorns['Country']=='United States'])"
      ]
    }
  ],
  "metadata": {
    "colab": {
      "include_colab_link": true,
      "provenance": []
    },
    "kernelspec": {
      "display_name": "Python 3.9.13 ('Data')",
      "language": "python",
      "name": "python3"
    },
    "language_info": {
      "codemirror_mode": {
        "name": "ipython",
        "version": 3
      },
      "file_extension": ".py",
      "mimetype": "text/x-python",
      "name": "python",
      "nbconvert_exporter": "python",
      "pygments_lexer": "ipython3",
      "version": "3.9.13 (main, Aug 25 2022, 23:51:50) [MSC v.1916 64 bit (AMD64)]"
    },
    "orig_nbformat": 4,
    "vscode": {
      "interpreter": {
        "hash": "25876271bee417cea62ac4a874d4e4ae52fe419c2f0f6d8a5704a6b7fa872526"
      }
    }
  },
  "nbformat": 4,
  "nbformat_minor": 0
}
