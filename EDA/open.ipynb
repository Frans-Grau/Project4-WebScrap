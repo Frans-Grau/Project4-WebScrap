{
 "cells": [
  {
   "cell_type": "code",
   "execution_count": 37,
   "metadata": {},
   "outputs": [],
   "source": [
    "import pandas as pd\n",
    "import re\n",
    "import unidecode"
   ]
  },
  {
   "cell_type": "code",
   "execution_count": 179,
   "metadata": {},
   "outputs": [],
   "source": [
    "name =  pd.read_csv(r'C:\\Users\\frans\\Documents\\GitHub\\Project4-WebScrap\\Files\\namelower.csv')\n",
    "url = pd.read_csv(r'C:\\Users\\frans\\Documents\\GitHub\\Project4-WebScrap\\Files\\URL-Final.csv')"
   ]
  },
  {
   "cell_type": "code",
   "execution_count": 181,
   "metadata": {},
   "outputs": [],
   "source": [
    "name.drop(['Unnamed: 0', 'Unnamed: 0.1', 'City'], axis=1, inplace=True)"
   ]
  },
  {
   "cell_type": "code",
   "execution_count": 182,
   "metadata": {},
   "outputs": [
    {
     "data": {
      "text/html": [
       "<div>\n",
       "<style scoped>\n",
       "    .dataframe tbody tr th:only-of-type {\n",
       "        vertical-align: middle;\n",
       "    }\n",
       "\n",
       "    .dataframe tbody tr th {\n",
       "        vertical-align: top;\n",
       "    }\n",
       "\n",
       "    .dataframe thead th {\n",
       "        text-align: right;\n",
       "    }\n",
       "</style>\n",
       "<table border=\"1\" class=\"dataframe\">\n",
       "  <thead>\n",
       "    <tr style=\"text-align: right;\">\n",
       "      <th></th>\n",
       "      <th>Rank</th>\n",
       "      <th>Country</th>\n",
       "      <th>Cost of Living</th>\n",
       "      <th>city</th>\n",
       "    </tr>\n",
       "  </thead>\n",
       "  <tbody>\n",
       "    <tr>\n",
       "      <th>0</th>\n",
       "      <td>1</td>\n",
       "      <td>Portugal</td>\n",
       "      <td>3336</td>\n",
       "      <td>lisbon</td>\n",
       "    </tr>\n",
       "    <tr>\n",
       "      <th>1</th>\n",
       "      <td>2</td>\n",
       "      <td>Thailand</td>\n",
       "      <td>2094</td>\n",
       "      <td>bangkok</td>\n",
       "    </tr>\n",
       "    <tr>\n",
       "      <th>2</th>\n",
       "      <td>3</td>\n",
       "      <td>Indonesia</td>\n",
       "      <td>1932</td>\n",
       "      <td>canggu</td>\n",
       "    </tr>\n",
       "    <tr>\n",
       "      <th>3</th>\n",
       "      <td>4</td>\n",
       "      <td>Thailand</td>\n",
       "      <td>1316</td>\n",
       "      <td>chiang-mai</td>\n",
       "    </tr>\n",
       "    <tr>\n",
       "      <th>4</th>\n",
       "      <td>5</td>\n",
       "      <td>Argentina</td>\n",
       "      <td>2027</td>\n",
       "      <td>buenos-aires</td>\n",
       "    </tr>\n",
       "    <tr>\n",
       "      <th>...</th>\n",
       "      <td>...</td>\n",
       "      <td>...</td>\n",
       "      <td>...</td>\n",
       "      <td>...</td>\n",
       "    </tr>\n",
       "    <tr>\n",
       "      <th>1343</th>\n",
       "      <td>1344</td>\n",
       "      <td>Tanzania</td>\n",
       "      <td>1745</td>\n",
       "      <td>dar-es-salaam</td>\n",
       "    </tr>\n",
       "    <tr>\n",
       "      <th>1344</th>\n",
       "      <td>1345</td>\n",
       "      <td>Russia</td>\n",
       "      <td>2377</td>\n",
       "      <td>saint-petersburg</td>\n",
       "    </tr>\n",
       "    <tr>\n",
       "      <th>1345</th>\n",
       "      <td>1346</td>\n",
       "      <td>Myanmar</td>\n",
       "      <td>1357</td>\n",
       "      <td>yangon</td>\n",
       "    </tr>\n",
       "    <tr>\n",
       "      <th>1346</th>\n",
       "      <td>1347</td>\n",
       "      <td>Iraq</td>\n",
       "      <td>1907</td>\n",
       "      <td>baghdad</td>\n",
       "    </tr>\n",
       "    <tr>\n",
       "      <th>1347</th>\n",
       "      <td>1348</td>\n",
       "      <td>Russia</td>\n",
       "      <td>3032</td>\n",
       "      <td>moscow</td>\n",
       "    </tr>\n",
       "  </tbody>\n",
       "</table>\n",
       "<p>1348 rows × 4 columns</p>\n",
       "</div>"
      ],
      "text/plain": [
       "      Rank    Country  Cost of Living              city\n",
       "0        1   Portugal            3336            lisbon\n",
       "1        2   Thailand            2094           bangkok\n",
       "2        3  Indonesia            1932            canggu\n",
       "3        4   Thailand            1316        chiang-mai\n",
       "4        5  Argentina            2027      buenos-aires\n",
       "...    ...        ...             ...               ...\n",
       "1343  1344   Tanzania            1745     dar-es-salaam\n",
       "1344  1345     Russia            2377  saint-petersburg\n",
       "1345  1346    Myanmar            1357            yangon\n",
       "1346  1347       Iraq            1907           baghdad\n",
       "1347  1348     Russia            3032            moscow\n",
       "\n",
       "[1348 rows x 4 columns]"
      ]
     },
     "execution_count": 182,
     "metadata": {},
     "output_type": "execute_result"
    }
   ],
   "source": [
    "name"
   ]
  },
  {
   "cell_type": "code",
   "execution_count": 183,
   "metadata": {},
   "outputs": [],
   "source": [
    "url['city'] =  url['url'].apply(lambda x : re.findall('[^\\/]+$', str(x)))\n",
    "url['city'] = url['city'].apply(lambda x : ''.join(x))"
   ]
  },
  {
   "cell_type": "code",
   "execution_count": 185,
   "metadata": {},
   "outputs": [
    {
     "name": "stdout",
     "output_type": "stream",
     "text": [
      "<class 'pandas.core.frame.DataFrame'>\n",
      "RangeIndex: 1348 entries, 0 to 1347\n",
      "Data columns (total 8 columns):\n",
      " #   Column      Non-Null Count  Dtype  \n",
      "---  ------      --------------  -----  \n",
      " 0   Unnamed: 0  1348 non-null   int64  \n",
      " 1   url         1348 non-null   object \n",
      " 2   results     1348 non-null   object \n",
      " 3   result1     1348 non-null   object \n",
      " 4   result2     1348 non-null   object \n",
      " 5   score       1338 non-null   float64\n",
      " 6   rank        1348 non-null   int64  \n",
      " 7   city        1348 non-null   object \n",
      "dtypes: float64(1), int64(2), object(5)\n",
      "memory usage: 84.4+ KB\n"
     ]
    }
   ],
   "source": [
    "url.info()"
   ]
  },
  {
   "cell_type": "code",
   "execution_count": 186,
   "metadata": {},
   "outputs": [
    {
     "name": "stdout",
     "output_type": "stream",
     "text": [
      "<class 'pandas.core.frame.DataFrame'>\n",
      "Int64Index: 1371 entries, 0 to 1370\n",
      "Data columns (total 11 columns):\n",
      " #   Column          Non-Null Count  Dtype  \n",
      "---  ------          --------------  -----  \n",
      " 0   Unnamed: 0      1371 non-null   int64  \n",
      " 1   url             1371 non-null   object \n",
      " 2   results         1371 non-null   object \n",
      " 3   result1         1371 non-null   object \n",
      " 4   result2         1371 non-null   object \n",
      " 5   score           1357 non-null   float64\n",
      " 6   rank            1371 non-null   int64  \n",
      " 7   city            1371 non-null   object \n",
      " 8   Rank            1371 non-null   int64  \n",
      " 9   Country         1371 non-null   object \n",
      " 10  Cost of Living  1371 non-null   int64  \n",
      "dtypes: float64(1), int64(4), object(6)\n",
      "memory usage: 128.5+ KB\n"
     ]
    }
   ],
   "source": [
    "final = pd.merge(url, name, on='city')\n",
    "final.info()"
   ]
  },
  {
   "cell_type": "code",
   "execution_count": 218,
   "metadata": {},
   "outputs": [],
   "source": [
    "t2 = final[['score', 'rank', 'city', 'Rank', 'Country','url']].sort_values(by='Rank')"
   ]
  },
  {
   "cell_type": "code",
   "execution_count": 219,
   "metadata": {},
   "outputs": [
    {
     "data": {
      "text/html": [
       "<div>\n",
       "<style scoped>\n",
       "    .dataframe tbody tr th:only-of-type {\n",
       "        vertical-align: middle;\n",
       "    }\n",
       "\n",
       "    .dataframe tbody tr th {\n",
       "        vertical-align: top;\n",
       "    }\n",
       "\n",
       "    .dataframe thead th {\n",
       "        text-align: right;\n",
       "    }\n",
       "</style>\n",
       "<table border=\"1\" class=\"dataframe\">\n",
       "  <thead>\n",
       "    <tr style=\"text-align: right;\">\n",
       "      <th></th>\n",
       "      <th>score</th>\n",
       "      <th>rank</th>\n",
       "      <th>city</th>\n",
       "      <th>Rank</th>\n",
       "      <th>Country</th>\n",
       "      <th>url</th>\n",
       "    </tr>\n",
       "  </thead>\n",
       "  <tbody>\n",
       "    <tr>\n",
       "      <th>509</th>\n",
       "      <td>2.8</td>\n",
       "      <td>461</td>\n",
       "      <td>bloomington</td>\n",
       "      <td>629</td>\n",
       "      <td>United States</td>\n",
       "      <td>https://nomadlist.com/bloomington</td>\n",
       "    </tr>\n",
       "    <tr>\n",
       "      <th>511</th>\n",
       "      <td>2.8</td>\n",
       "      <td>461</td>\n",
       "      <td>bloomington</td>\n",
       "      <td>629</td>\n",
       "      <td>United States</td>\n",
       "      <td>https://nomadlist.com/bloomington</td>\n",
       "    </tr>\n",
       "    <tr>\n",
       "      <th>510</th>\n",
       "      <td>2.8</td>\n",
       "      <td>461</td>\n",
       "      <td>bloomington</td>\n",
       "      <td>858</td>\n",
       "      <td>United States</td>\n",
       "      <td>https://nomadlist.com/bloomington</td>\n",
       "    </tr>\n",
       "    <tr>\n",
       "      <th>512</th>\n",
       "      <td>2.8</td>\n",
       "      <td>461</td>\n",
       "      <td>bloomington</td>\n",
       "      <td>858</td>\n",
       "      <td>United States</td>\n",
       "      <td>https://nomadlist.com/bloomington</td>\n",
       "    </tr>\n",
       "  </tbody>\n",
       "</table>\n",
       "</div>"
      ],
      "text/plain": [
       "     score  rank         city  Rank        Country  \\\n",
       "509    2.8   461  bloomington   629  United States   \n",
       "511    2.8   461  bloomington   629  United States   \n",
       "510    2.8   461  bloomington   858  United States   \n",
       "512    2.8   461  bloomington   858  United States   \n",
       "\n",
       "                                   url  \n",
       "509  https://nomadlist.com/bloomington  \n",
       "511  https://nomadlist.com/bloomington  \n",
       "510  https://nomadlist.com/bloomington  \n",
       "512  https://nomadlist.com/bloomington  "
      ]
     },
     "execution_count": 219,
     "metadata": {},
     "output_type": "execute_result"
    }
   ],
   "source": [
    "t2[t2['city']=='bloomington']"
   ]
  },
  {
   "cell_type": "code",
   "execution_count": 213,
   "metadata": {},
   "outputs": [
    {
     "data": {
      "text/plain": [
       "victoria        9\n",
       "lagos           4\n",
       "bloomington     4\n",
       "birmingham      4\n",
       "salem           4\n",
       "               ..\n",
       "dongying        1\n",
       "fort-smith      1\n",
       "chania          1\n",
       "intag-valley    1\n",
       "moscow          1\n",
       "Name: city, Length: 1315, dtype: int64"
      ]
     },
     "execution_count": 213,
     "metadata": {},
     "output_type": "execute_result"
    }
   ],
   "source": [
    "final.city.value_counts()"
   ]
  },
  {
   "cell_type": "code",
   "execution_count": 208,
   "metadata": {},
   "outputs": [
    {
     "data": {
      "text/plain": [
       "Country\n",
       "Cayman Islands     3.560000\n",
       "Portugal           3.330909\n",
       "Nepal              3.285000\n",
       "Cuba               3.240000\n",
       "Serbia             3.233333\n",
       "Mauritius          3.210000\n",
       "Bulgaria           3.206000\n",
       "North Macedonia    3.200000\n",
       "Romania            3.177778\n",
       "Poland             3.135000\n",
       "Philippines        3.125000\n",
       "Vietnam            3.122000\n",
       "Slovenia           3.120000\n",
       "Malaysia           3.117500\n",
       "Kenya              3.100000\n",
       "Armenia            3.090000\n",
       "Thailand           3.063889\n",
       "Georgia            3.043333\n",
       "Latvia             3.040000\n",
       "South Africa       3.036667\n",
       "Lebanon            3.030000\n",
       "Zimbabwe           3.020000\n",
       "Sweden             3.013333\n",
       "Singapore          3.010000\n",
       "Bosnia             3.006667\n",
       "Indonesia          3.002000\n",
       "Cambodia           3.000000\n",
       "Czechia            2.996667\n",
       "Suriname           2.990000\n",
       "Sri Lanka          2.974000\n",
       "Croatia            2.973750\n",
       "Moldova            2.970000\n",
       "Hong Kong          2.970000\n",
       "Slovakia           2.960000\n",
       "Uzbekistan         2.950000\n",
       "Paraguay           2.940000\n",
       "Albania            2.940000\n",
       "Argentina          2.931111\n",
       "South Korea        2.930000\n",
       "Ecuador            2.928333\n",
       "India              2.917385\n",
       "Guatemala          2.913333\n",
       "Laos               2.906667\n",
       "Palestine          2.890000\n",
       "Morocco            2.887778\n",
       "Tunisia            2.880000\n",
       "Turkey             2.873000\n",
       "Estonia            2.870000\n",
       "Senegal            2.860000\n",
       "Namibia            2.860000\n",
       "Name: score, dtype: float64"
      ]
     },
     "execution_count": 208,
     "metadata": {},
     "output_type": "execute_result"
    }
   ],
   "source": [
    "final.groupby('Country')['score'].mean().sort_values(ascending=False).head(50)"
   ]
  },
  {
   "cell_type": "code",
   "execution_count": 209,
   "metadata": {},
   "outputs": [
    {
     "data": {
      "text/plain": [
       "city\n",
       "lisbon              4.34\n",
       "bangkok             4.08\n",
       "chiang-mai          4.06\n",
       "canggu              4.04\n",
       "madeira             3.88\n",
       "                    ... \n",
       "sao-paulo           3.17\n",
       "new-york-city       3.17\n",
       "playa-del-carmen    3.17\n",
       "leipzig             3.16\n",
       "busan               3.16\n",
       "Name: score, Length: 100, dtype: float64"
      ]
     },
     "execution_count": 209,
     "metadata": {},
     "output_type": "execute_result"
    }
   ],
   "source": [
    "final.groupby('city')['score'].mean().sort_values(ascending=False).head(100)"
   ]
  },
  {
   "cell_type": "code",
   "execution_count": 196,
   "metadata": {},
   "outputs": [
    {
     "data": {
      "text/plain": [
       "1315"
      ]
     },
     "execution_count": 196,
     "metadata": {},
     "output_type": "execute_result"
    }
   ],
   "source": [
    "df['city'].nunique()"
   ]
  }
 ],
 "metadata": {
  "kernelspec": {
   "display_name": "Data",
   "language": "python",
   "name": "python3"
  },
  "language_info": {
   "codemirror_mode": {
    "name": "ipython",
    "version": 3
   },
   "file_extension": ".py",
   "mimetype": "text/x-python",
   "name": "python",
   "nbconvert_exporter": "python",
   "pygments_lexer": "ipython3",
   "version": "3.9.13"
  },
  "orig_nbformat": 4,
  "vscode": {
   "interpreter": {
    "hash": "25876271bee417cea62ac4a874d4e4ae52fe419c2f0f6d8a5704a6b7fa872526"
   }
  }
 },
 "nbformat": 4,
 "nbformat_minor": 2
}
